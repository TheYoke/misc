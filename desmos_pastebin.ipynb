{
 "cells": [
  {
   "cell_type": "markdown",
   "id": "a8b6252e-fc16-4278-9835-3b6b0021e259",
   "metadata": {},
   "source": [
    "# Desmos Pastebin\n",
    "### This notebook shows how to upload arbitary text/data to Desmos Calculator and makes it a pastebin service"
   ]
  },
  {
   "cell_type": "code",
   "execution_count": 1,
   "id": "fd25d18c-0f0a-449f-82ed-14ad03940f03",
   "metadata": {},
   "outputs": [],
   "source": [
    "import requests\n",
    "\n",
    "import string\n",
    "import random\n",
    "import base64"
   ]
  },
  {
   "cell_type": "code",
   "execution_count": 2,
   "id": "72ab993c-4a51-4acd-8a97-a18425154593",
   "metadata": {},
   "outputs": [],
   "source": [
    "# Maximum upload body size\n",
    "MAX_BODY_SIZE = 5*2**20  # 5MiB\n",
    "\n",
    "# Maximum text size\n",
    "# 91 is the size of base body\n",
    "MAX_TEXT_SIZE = MAX_BODY_SIZE - 91\n",
    "\n",
    "# Maximum data size\n",
    "# 4/3 is the base64 overhead factor\n",
    "MAX_DATA_SIZE = int(MAX_TEXT_SIZE / (4/3)) # = 3932091"
   ]
  },
  {
   "cell_type": "code",
   "execution_count": 3,
   "id": "7f90fb27-9e4d-49ea-8d2d-442f90ffbc17",
   "metadata": {},
   "outputs": [],
   "source": [
    "def built_data(data, graph_hash=None):\n",
    "    # if `graph_hash` is specified,\n",
    "    # it can only be a unique string of lowercase letters and ditgits\n",
    "    \n",
    "    if isinstance(data, str):\n",
    "        assert len(data) <= MAX_TEXT_SIZE, f'{len(data)} > {MAX_TEXT_SIZE}'\n",
    "    elif isinstance(data, bytes):\n",
    "        assert len(data) <= MAX_DATA_SIZE, f'{len(data)} > {MAX_DATA_SIZE}'\n",
    "        # use altchars '-' and '.' to avoid size inflation due to url encoding of '+' and '/'\n",
    "        data = base64.b64encode(data, altchars=b'-.').decode()\n",
    "    else:\n",
    "        raise TypeError('data should be either str or bytes type')\n",
    "\n",
    "    if graph_hash is None:\n",
    "        graph_hash = ''.join(random.choices(string.ascii_lowercase + string.digits, k=10))\n",
    "\n",
    "    return {\n",
    "        'thumb_data': 'data:image/png;base64,',\n",
    "        'graph_hash': graph_hash,\n",
    "        'my_graphs': 'false',\n",
    "        'calc_state': data,\n",
    "    }"
   ]
  },
  {
   "cell_type": "code",
   "execution_count": 4,
   "id": "0a26ee7c-7ad0-42ec-bd96-2d1356512c99",
   "metadata": {},
   "outputs": [
    {
     "data": {
      "text/plain": [
       "'fuckyougod'"
      ]
     },
     "execution_count": 4,
     "metadata": {},
     "output_type": "execute_result"
    }
   ],
   "source": [
    "random.seed('fuckyougod')\n",
    "mydata = random.randbytes(MAX_DATA_SIZE)\n",
    "\n",
    "# random.seed()  # reset seed for random graph_hash\n",
    "data = built_data(mydata, 'fuckyougod')\n",
    "data['graph_hash']"
   ]
  },
  {
   "cell_type": "code",
   "execution_count": 5,
   "id": "b1b391c0-22ff-4820-9c62-065370a8b4be",
   "metadata": {},
   "outputs": [
    {
     "data": {
      "text/plain": [
       "1"
      ]
     },
     "execution_count": 5,
     "metadata": {},
     "output_type": "execute_result"
    }
   ],
   "source": [
    "prep = requests.Request('POST', 'https://www.desmos.com/api/v1/calculator/save', data=data).prepare()\n",
    "assert len(prep.body) <= MAX_BODY_SIZE, len(prep.body)\n",
    "\n",
    "MAX_BODY_SIZE - len(prep.body)"
   ]
  },
  {
   "cell_type": "code",
   "execution_count": 6,
   "id": "22d3ab40-65f8-4028-b754-f85861b561cd",
   "metadata": {},
   "outputs": [
    {
     "data": {
      "text/plain": [
       "(500, 'Internal Server Error')"
      ]
     },
     "execution_count": 6,
     "metadata": {},
     "output_type": "execute_result"
    }
   ],
   "source": [
    "session = requests.Session()\n",
    "response = session.send(prep)\n",
    "\n",
    "# response status code of 500 is normal\n",
    "# 409 if graph_hash is already in use (not unique)\n",
    "# 413 if request body size is more than 5MiB\n",
    "response.status_code, response.reason"
   ]
  },
  {
   "cell_type": "code",
   "execution_count": null,
   "id": "3732e7eb-e08c-4534-86ad-779b9fa75594",
   "metadata": {},
   "outputs": [],
   "source": []
  },
  {
   "cell_type": "code",
   "execution_count": 15,
   "id": "55f81c83-aa6b-4131-befd-b193a1b6baa7",
   "metadata": {},
   "outputs": [],
   "source": [
    "# test uploaded data integrity\n",
    "\n",
    "response = requests.get('https://www.desmos.com/calc-states/production/fuckyougod')\n",
    "random.seed('fuckyougod')\n",
    "assert base64.b64decode(response.text, altchars=b'-.') == random.randbytes(MAX_DATA_SIZE)\n",
    "assert response.headers['Last-Modified'] == 'Tue, 07 Nov 2023 01:55:27 GMT'"
   ]
  },
  {
   "cell_type": "code",
   "execution_count": null,
   "id": "4c029fca-ae1b-488c-ac34-ba0282ce26da",
   "metadata": {},
   "outputs": [],
   "source": []
  },
  {
   "cell_type": "markdown",
   "id": "6b19fa1f-2322-48bb-b3a4-cf6502430e98",
   "metadata": {},
   "source": [
    "### Note on `thumb_data`\n",
    "`thumb_data` can be used to upload an arbitary PNG image by appending `data:image/png;base64,` with the base64 of the PNG file.  \n",
    "Because the image has to be in base64 and can not use altchars, its max size is limited to about 3.53 MiB (5MiB * 12/17).  \n",
    "The url of the image would be https://www.desmos.com/calc_thumbs/production/fuckyougod.png, where `fuckyougod` is the `graph_hash`."
   ]
  },
  {
   "cell_type": "code",
   "execution_count": null,
   "id": "65de4bb4-343c-48c6-b84a-9b3dc7e9f47d",
   "metadata": {},
   "outputs": [],
   "source": []
  }
 ],
 "metadata": {
  "kernelspec": {
   "display_name": "Python 3 (ipykernel)",
   "language": "python",
   "name": "python3"
  },
  "language_info": {
   "codemirror_mode": {
    "name": "ipython",
    "version": 3
   },
   "file_extension": ".py",
   "mimetype": "text/x-python",
   "name": "python",
   "nbconvert_exporter": "python",
   "pygments_lexer": "ipython3",
   "version": "3.10.12"
  }
 },
 "nbformat": 4,
 "nbformat_minor": 5
}
